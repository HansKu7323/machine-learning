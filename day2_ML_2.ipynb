{
 "cells": [
  {
   "cell_type": "markdown",
   "id": "6bedce5a",
   "metadata": {},
   "source": [
    "透過 jieba.cut () 來進行斷詞\n",
    "1  cut_all 參數為 True 的話為全模式預設為 False，也就是精確模式 => jieba.cut(text,cut_all=True)\n",
    "2  jibea.cut_for_search () 是搜索引擎模式 => jieba.cut_for_search(sentence)\n",
    "3  cut ()、cur_for_search () 返回的結構都是一个可迭代的 generator，因此使用 for 迴圈來取得每個斷詞。\n"
   ]
  },
  {
   "cell_type": "code",
   "execution_count": 1,
   "id": "271441ed",
   "metadata": {},
   "outputs": [],
   "source": [
    "from sklearn.feature_extraction.text import CountVectorizer#文本特徵提取\n",
    "import jieba\n",
    "\n",
    "\n"
   ]
  },
  {
   "cell_type": "code",
   "execution_count": 2,
   "id": "133a471e",
   "metadata": {},
   "outputs": [],
   "source": [
    "def cut_word(text):\n",
    "    #進行中文分詞\n",
    "    #1  jieba.cut(text)=>傳回generator(生成器)\n",
    "    #2  list(jieba.cut(text))=>用list cast成list\n",
    "    #3 \"\".join(list(jieba.cut(text)))=>join方法，以s作為連接字元，將串列list的元素連接成一個字串\n",
    "    \n",
    "    #text = jieba.cut(text)\n",
    "    #text = list(jieba.cut(text))\n",
    "    text = \"\".join(list(jieba.cut(text,cut_all=True)))\n",
    "    return text"
   ]
  },
  {
   "cell_type": "code",
   "execution_count": 3,
   "id": "47aa28a1",
   "metadata": {},
   "outputs": [
    {
     "name": "stderr",
     "output_type": "stream",
     "text": [
      "Building prefix dict from the default dictionary ...\n",
      "Loading model from cache /var/folders/9s/1d5s4zdx5gl5md2r640z5gwc0000gn/T/jieba.cache\n",
      "Loading model cost 0.604 seconds.\n",
      "Prefix dict has been built successfully.\n"
     ]
    },
    {
     "data": {
      "text/plain": [
       "'我剛開始自學Python的時候，可是不斷爬文、看教學影片'"
      ]
     },
     "execution_count": 3,
     "metadata": {},
     "output_type": "execute_result"
    }
   ],
   "source": [
    "cut_word(\"我剛開始自學Python的時候，可是不斷爬文、看教學影片\")"
   ]
  },
  {
   "cell_type": "code",
   "execution_count": 4,
   "id": "1ffe155b",
   "metadata": {},
   "outputs": [],
   "source": [
    "data = [\"我剛開始自學Python的時候，可是不斷爬文、看教學影片、參加線上課程和共學營，才漸漸把Python這個神秘面紗一點一點揭開。\",\n",
    "\n",
    "\"在資訊爆炸的情況下，想要找出真正較佳的線上課程或學習資源，就是必須要花不少心力不斷去試聽、爬文看評價，才能選到合適自己的課程。\",\n",
    "\n",
    "\"正因為如此，在這篇文章中，我會分享參加過的線上課程和共學營，也會提供很棒的學習資源管道。\",\n",
    "\n",
    "\"讓想自學Python或是想了解Python是什麼的人，可以用最短時間了解有哪些資源或課程。\"]"
   ]
  },
  {
   "cell_type": "code",
   "execution_count": 5,
   "id": "5dfa56b0",
   "metadata": {},
   "outputs": [
    {
     "name": "stdout",
     "output_type": "stream",
     "text": [
      "我剛開始自學Python的時候，可是不斷爬文、看教學影片、參加線上課程和共學營，才漸漸把Python這個神秘面紗一點一點揭開。\n",
      "在資訊爆炸的情況下，想要找出真正較佳的線上課程或學習資源，就是必須要花不少心力不斷去試聽、爬文看評價，才能選到合適自己的課程。\n",
      "正因為如此，在這篇文章文章中，我會分享參加過的線上課程和共學營，也會提供很棒的學習資源管道。\n",
      "讓想自學Python或是想了解Python是什麼的人，可以用最短時間了解有哪些資源或課程。\n"
     ]
    }
   ],
   "source": [
    "data_new=[]\n",
    "for sent in data:\n",
    "    #print(sent)\n",
    "    print(cut_word(sent))\n",
    "    data_new.append(cut_word(sent))"
   ]
  },
  {
   "cell_type": "code",
   "execution_count": 6,
   "id": "ec444009",
   "metadata": {},
   "outputs": [
    {
     "name": "stdout",
     "output_type": "stream",
     "text": [
      "['我剛開始自學Python的時候，可是不斷爬文、看教學影片、參加線上課程和共學營，才漸漸把Python這個神秘面紗一點一點揭開。', '在資訊爆炸的情況下，想要找出真正較佳的線上課程或學習資源，就是必須要花不少心力不斷去試聽、爬文看評價，才能選到合適自己的課程。', '正因為如此，在這篇文章文章中，我會分享參加過的線上課程和共學營，也會提供很棒的學習資源管道。', '讓想自學Python或是想了解Python是什麼的人，可以用最短時間了解有哪些資源或課程。']\n"
     ]
    }
   ],
   "source": [
    "print(data_new)"
   ]
  },
  {
   "cell_type": "code",
   "execution_count": 7,
   "id": "92d82aff",
   "metadata": {},
   "outputs": [
    {
     "name": "stdout",
     "output_type": "stream",
     "text": [
      "  (0, 8)\t1\n",
      "  (0, 3)\t1\n",
      "  (0, 14)\t1\n",
      "  (0, 1)\t1\n",
      "  (0, 10)\t1\n",
      "  (1, 4)\t1\n",
      "  (1, 7)\t1\n",
      "  (1, 6)\t1\n",
      "  (1, 13)\t1\n",
      "  (1, 11)\t1\n",
      "  (2, 12)\t1\n",
      "  (2, 5)\t1\n",
      "  (2, 9)\t1\n",
      "  (2, 0)\t1\n",
      "  (3, 15)\t1\n",
      "  (3, 2)\t1\n"
     ]
    }
   ],
   "source": [
    "#實例化一個轉換器類\n",
    "transfer = CountVectorizer()\n",
    "#調用fit_transform方法\n",
    "data_final = transfer.fit_transform(data_new)\n",
    "print(data_final)#印出sparse矩陣"
   ]
  },
  {
   "cell_type": "code",
   "execution_count": 8,
   "id": "e2a73ef8",
   "metadata": {},
   "outputs": [
    {
     "name": "stdout",
     "output_type": "stream",
     "text": [
      "[[0 1 0 1 0 0 0 0 1 0 1 0 0 0 1 0]\n",
      " [0 0 0 0 1 0 1 1 0 0 0 1 0 1 0 0]\n",
      " [1 0 0 0 0 1 0 0 0 1 0 0 1 0 0 0]\n",
      " [0 0 1 0 0 0 0 0 0 0 0 0 0 0 0 1]]\n"
     ]
    }
   ],
   "source": [
    "#toarray()為sparse矩陣裡的方法\n",
    "data_final2 = data_final.toarray()\n",
    "print(data_final2)"
   ]
  },
  {
   "cell_type": "code",
   "execution_count": 9,
   "id": "a6527aef",
   "metadata": {},
   "outputs": [
    {
     "name": "stdout",
     "output_type": "stream",
     "text": [
      "特徵名字\n",
      "['也會提供很棒的學習資源管道', '參加線上課程和共學營', '可以用最短時間了解有哪些資源或課程', '可是不斷爬文', '在資訊爆炸的情況下', '在這篇文章文章中', '就是必須要花不少心力不斷去試聽', '想要找出真正較佳的線上課程或學習資源', '我剛開始自學python的時候', '我會分享參加過的線上課程和共學營', '才漸漸把python這個神秘面紗一點一點揭開', '才能選到合適自己的課程', '正因為如此', '爬文看評價', '看教學影片', '讓想自學python或是想了解python是什麼的人']\n"
     ]
    }
   ],
   "source": [
    "print(\"特徵名字\")\n",
    "#取得特徵名字方法get_feature_names()\n",
    "print(transfer.get_feature_names())"
   ]
  },
  {
   "cell_type": "code",
   "execution_count": 10,
   "id": "6935697d",
   "metadata": {},
   "outputs": [],
   "source": [
    "from sklearn.feature_extraction.text import TfidfVectorizer#文本特徵提取\n"
   ]
  },
  {
   "cell_type": "code",
   "execution_count": 11,
   "id": "514ebfb9",
   "metadata": {},
   "outputs": [],
   "source": [
    "data = [\"我剛開始自學Python的時候，可是不斷爬文、看教學影片、參加線上課程和共學營，才漸漸把Python這個神秘面紗一點一點揭開。\",\n",
    "\n",
    "\"在資訊爆炸的情況下，想要找出真正較佳的線上課程或學習資源，就是必須要花不少心力不斷去試聽、爬文看評價，才能選到合適自己的課程。\",\n",
    "\n",
    "\"正因為如此，在這篇文章中，我會分享參加過的線上課程和共學營，也會提供很棒的學習資源管道。\",\n",
    "\n",
    "\"讓想自學Python或是想了解Python是什麼的人，可以用最短時間了解有哪些資源或課程。\"]"
   ]
  },
  {
   "cell_type": "code",
   "execution_count": 12,
   "id": "e83dfa80",
   "metadata": {},
   "outputs": [
    {
     "name": "stdout",
     "output_type": "stream",
     "text": [
      "我剛開始自學Python的時候，可是不斷爬文、看教學影片、參加線上課程和共學營，才漸漸把Python這個神秘面紗一點一點揭開。\n",
      "在資訊爆炸的情況下，想要找出真正較佳的線上課程或學習資源，就是必須要花不少心力不斷去試聽、爬文看評價，才能選到合適自己的課程。\n",
      "正因為如此，在這篇文章文章中，我會分享參加過的線上課程和共學營，也會提供很棒的學習資源管道。\n",
      "讓想自學Python或是想了解Python是什麼的人，可以用最短時間了解有哪些資源或課程。\n"
     ]
    }
   ],
   "source": [
    "data_new=[]\n",
    "for sent in data:\n",
    "    #print(sent)\n",
    "    print(cut_word(sent))\n",
    "    data_new.append(cut_word(sent))"
   ]
  },
  {
   "cell_type": "code",
   "execution_count": 13,
   "id": "b8f3e0bd",
   "metadata": {},
   "outputs": [
    {
     "name": "stdout",
     "output_type": "stream",
     "text": [
      "['我剛開始自學Python的時候，可是不斷爬文、看教學影片、參加線上課程和共學營，才漸漸把Python這個神秘面紗一點一點揭開。', '在資訊爆炸的情況下，想要找出真正較佳的線上課程或學習資源，就是必須要花不少心力不斷去試聽、爬文看評價，才能選到合適自己的課程。', '正因為如此，在這篇文章文章中，我會分享參加過的線上課程和共學營，也會提供很棒的學習資源管道。', '讓想自學Python或是想了解Python是什麼的人，可以用最短時間了解有哪些資源或課程。']\n"
     ]
    }
   ],
   "source": [
    "print(data_new)"
   ]
  },
  {
   "cell_type": "code",
   "execution_count": 14,
   "id": "4b22287b",
   "metadata": {},
   "outputs": [
    {
     "name": "stdout",
     "output_type": "stream",
     "text": [
      "  (0, 10)\t0.4472135954999579\n",
      "  (0, 1)\t0.4472135954999579\n",
      "  (0, 14)\t0.4472135954999579\n",
      "  (0, 3)\t0.4472135954999579\n",
      "  (0, 8)\t0.4472135954999579\n",
      "  (1, 11)\t0.4472135954999579\n",
      "  (1, 13)\t0.4472135954999579\n",
      "  (1, 6)\t0.4472135954999579\n",
      "  (1, 7)\t0.4472135954999579\n",
      "  (1, 4)\t0.4472135954999579\n",
      "  (2, 0)\t0.5\n",
      "  (2, 9)\t0.5\n",
      "  (2, 5)\t0.5\n",
      "  (2, 12)\t0.5\n",
      "  (3, 2)\t0.7071067811865476\n",
      "  (3, 15)\t0.7071067811865476\n"
     ]
    }
   ],
   "source": [
    "#實例化一個轉換器類\n",
    "transfer = TfidfVectorizer()\n",
    "#調用fit_transform方法\n",
    "data_final = transfer.fit_transform(data_new)\n",
    "print(data_final)#印出sparse矩陣"
   ]
  },
  {
   "cell_type": "code",
   "execution_count": 15,
   "id": "3a9f88f6",
   "metadata": {},
   "outputs": [
    {
     "name": "stdout",
     "output_type": "stream",
     "text": [
      "[[0.         0.4472136  0.         0.4472136  0.         0.\n",
      "  0.         0.         0.4472136  0.         0.4472136  0.\n",
      "  0.         0.         0.4472136  0.        ]\n",
      " [0.         0.         0.         0.         0.4472136  0.\n",
      "  0.4472136  0.4472136  0.         0.         0.         0.4472136\n",
      "  0.         0.4472136  0.         0.        ]\n",
      " [0.5        0.         0.         0.         0.         0.5\n",
      "  0.         0.         0.         0.5        0.         0.\n",
      "  0.5        0.         0.         0.        ]\n",
      " [0.         0.         0.70710678 0.         0.         0.\n",
      "  0.         0.         0.         0.         0.         0.\n",
      "  0.         0.         0.         0.70710678]]\n"
     ]
    }
   ],
   "source": [
    "#toarray()為sparse矩陣裡的方法\n",
    "data_final2 = data_final.toarray()\n",
    "print(data_final2)"
   ]
  },
  {
   "cell_type": "code",
   "execution_count": 16,
   "id": "7cf820d2",
   "metadata": {},
   "outputs": [
    {
     "name": "stdout",
     "output_type": "stream",
     "text": [
      "特徵名字\n",
      "['也會提供很棒的學習資源管道', '參加線上課程和共學營', '可以用最短時間了解有哪些資源或課程', '可是不斷爬文', '在資訊爆炸的情況下', '在這篇文章文章中', '就是必須要花不少心力不斷去試聽', '想要找出真正較佳的線上課程或學習資源', '我剛開始自學python的時候', '我會分享參加過的線上課程和共學營', '才漸漸把python這個神秘面紗一點一點揭開', '才能選到合適自己的課程', '正因為如此', '爬文看評價', '看教學影片', '讓想自學python或是想了解python是什麼的人']\n"
     ]
    }
   ],
   "source": [
    "print(\"特徵名字\")\n",
    "#取得特徵名字方法get_feature_names()\n",
    "print(transfer.get_feature_names())"
   ]
  },
  {
   "cell_type": "code",
   "execution_count": null,
   "id": "5b16acdf",
   "metadata": {},
   "outputs": [],
   "source": []
  }
 ],
 "metadata": {
  "kernelspec": {
   "display_name": "Python 3 (ipykernel)",
   "language": "python",
   "name": "python3"
  },
  "language_info": {
   "codemirror_mode": {
    "name": "ipython",
    "version": 3
   },
   "file_extension": ".py",
   "mimetype": "text/x-python",
   "name": "python",
   "nbconvert_exporter": "python",
   "pygments_lexer": "ipython3",
   "version": "3.8.12"
  }
 },
 "nbformat": 4,
 "nbformat_minor": 5
}
