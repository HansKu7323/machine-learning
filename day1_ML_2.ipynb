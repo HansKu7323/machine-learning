{
 "cells": [
  {
   "cell_type": "code",
   "execution_count": 1,
   "id": "61ad4b16",
   "metadata": {},
   "outputs": [],
   "source": [
    "#字典特徵抽取\n",
    "data = {'city':'北京','temperature':100}, {'city':'上海','temperature':60}, {'city':'深圳','temperature':30}"
   ]
  },
  {
   "cell_type": "code",
   "execution_count": 5,
   "id": "347e5271",
   "metadata": {},
   "outputs": [],
   "source": [
    "from sklearn.feature_extraction import DictVectorizer #載入字典特徵提取"
   ]
  },
  {
   "cell_type": "code",
   "execution_count": 13,
   "id": "9458e3d5",
   "metadata": {},
   "outputs": [],
   "source": [
    "#實例化一個轉換器類\n",
    "#transfer = DictVectorizer()\n",
    "transfer = DictVectorizer(sparse=False)"
   ]
  },
  {
   "cell_type": "code",
   "execution_count": 14,
   "id": "fd115523",
   "metadata": {},
   "outputs": [],
   "source": [
    "#調用fit_transform()方法\n",
    "data_new = transfer.fit_transform(data)"
   ]
  },
  {
   "cell_type": "code",
   "execution_count": 15,
   "id": "22546508",
   "metadata": {},
   "outputs": [
    {
     "name": "stdout",
     "output_type": "stream",
     "text": [
      "[[  0.   1.   0. 100.]\n",
      " [  1.   0.   0.  60.]\n",
      " [  0.   0.   1.  30.]]\n"
     ]
    }
   ],
   "source": [
    "#sklearn.feature_extraction.Dicvectorizer(sparse=True[默認值])\n",
    "#sparse稀疏\n",
    "#sparse=True => 稀疏矩陣 =>0不表示出來，能節省內存，提高加載效率\n",
    "#sparse=False => 二維陣列\n",
    "\n",
    "print(data_new)"
   ]
  },
  {
   "cell_type": "code",
   "execution_count": null,
   "id": "f3a270ad",
   "metadata": {},
   "outputs": [],
   "source": []
  }
 ],
 "metadata": {
  "kernelspec": {
   "display_name": "Python 3 (ipykernel)",
   "language": "python",
   "name": "python3"
  },
  "language_info": {
   "codemirror_mode": {
    "name": "ipython",
    "version": 3
   },
   "file_extension": ".py",
   "mimetype": "text/x-python",
   "name": "python",
   "nbconvert_exporter": "python",
   "pygments_lexer": "ipython3",
   "version": "3.8.12"
  }
 },
 "nbformat": 4,
 "nbformat_minor": 5
}
