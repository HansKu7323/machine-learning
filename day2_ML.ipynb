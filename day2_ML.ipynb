{
 "cells": [
  {
   "cell_type": "code",
   "execution_count": 1,
   "id": "a36be538",
   "metadata": {},
   "outputs": [],
   "source": [
    "from sklearn.feature_extraction.text import CountVectorizer"
   ]
  },
  {
   "cell_type": "code",
   "execution_count": 10,
   "id": "945472bd",
   "metadata": {},
   "outputs": [
    {
     "name": "stdout",
     "output_type": "stream",
     "text": [
      "  (0, 1)\t1\n",
      "  (0, 5)\t1\n",
      "  (0, 2)\t2\n",
      "  (0, 4)\t1\n",
      "  (1, 1)\t1\n",
      "  (1, 4)\t1\n",
      "  (1, 3)\t1\n",
      "  (1, 0)\t1\n"
     ]
    }
   ],
   "source": [
    "data = [\"life is short,i like like python\",\"life is too long,i dislike python\"]\n",
    "#實例化一個轉換器類\n",
    "#無sparse = False\n",
    "#stop_words停用詞\n",
    "transfer = CountVectorizer(stop_words=[\"is\",\"too\"])\n",
    "\n",
    "#調用fit_transform方法\n",
    "data_new = transfer.fit_transform(data)\n",
    "print(data_new)#印出sparse矩陣"
   ]
  },
  {
   "cell_type": "code",
   "execution_count": 11,
   "id": "a606f7b7",
   "metadata": {},
   "outputs": [
    {
     "name": "stdout",
     "output_type": "stream",
     "text": [
      "[[0 1 2 0 1 1]\n",
      " [1 1 0 1 1 0]]\n"
     ]
    }
   ],
   "source": [
    "#toarray()為sparse矩陣裡的方法\n",
    "data_new2 = data_new.toarray()\n",
    "print(data_new2)"
   ]
  },
  {
   "cell_type": "code",
   "execution_count": 12,
   "id": "5989b760",
   "metadata": {},
   "outputs": [
    {
     "name": "stdout",
     "output_type": "stream",
     "text": [
      "特徵名字\n",
      "['dislike', 'life', 'like', 'long', 'python', 'short']\n"
     ]
    }
   ],
   "source": [
    "print(\"特徵名字\")\n",
    "#取得特徵名字方法get_feature_names()\n",
    "print(transfer.get_feature_names())"
   ]
  },
  {
   "cell_type": "code",
   "execution_count": null,
   "id": "d205c8d6",
   "metadata": {},
   "outputs": [],
   "source": []
  }
 ],
 "metadata": {
  "kernelspec": {
   "display_name": "Python 3 (ipykernel)",
   "language": "python",
   "name": "python3"
  },
  "language_info": {
   "codemirror_mode": {
    "name": "ipython",
    "version": 3
   },
   "file_extension": ".py",
   "mimetype": "text/x-python",
   "name": "python",
   "nbconvert_exporter": "python",
   "pygments_lexer": "ipython3",
   "version": "3.8.12"
  }
 },
 "nbformat": 4,
 "nbformat_minor": 5
}
